{
 "cells": [
  {
   "cell_type": "markdown",
   "id": "82dc9f19",
   "metadata": {},
   "source": [
    "## Generating Sample Data\n",
    "\n",
    "The goal is to generate sample data of ~ 5,000,000 rows from the downloaded csv file to use for the analysis. "
   ]
  },
  {
   "cell_type": "code",
   "execution_count": 1,
   "id": "ce6d98ce",
   "metadata": {},
   "outputs": [],
   "source": [
    "from pyspark.sql import SparkSession"
   ]
  },
  {
   "cell_type": "code",
   "execution_count": 2,
   "id": "d30ec4cc",
   "metadata": {},
   "outputs": [],
   "source": [
    "# Create SparkSession\n",
    "spark = SparkSession.builder.appName(\"CSV_Sample\").getOrCreate()"
   ]
  },
  {
   "cell_type": "code",
   "execution_count": 3,
   "id": "afa9257a",
   "metadata": {},
   "outputs": [],
   "source": [
    "#Reading the dataset\n",
    "raw_data = spark.read.csv(\"..\\Data\\2017_Yellow_Taxi_Trip_Data.csv\",header = True,inferSchema=True)"
   ]
  },
  {
   "cell_type": "code",
   "execution_count": 4,
   "id": "82f62a7a",
   "metadata": {},
   "outputs": [
    {
     "name": "stdout",
     "output_type": "stream",
     "text": [
      "+--------+--------------------+---------------------+---------------+-------------+----------+------------------+------------+------------+------------+-----------+-----+-------+----------+------------+---------------------+------------+\n",
      "|VendorID|tpep_pickup_datetime|tpep_dropoff_datetime|passenger_count|trip_distance|RatecodeID|store_and_fwd_flag|PULocationID|DOLocationID|payment_type|fare_amount|extra|mta_tax|tip_amount|tolls_amount|improvement_surcharge|total_amount|\n",
      "+--------+--------------------+---------------------+---------------+-------------+----------+------------------+------------+------------+------------+-----------+-----+-------+----------+------------+---------------------+------------+\n",
      "|       2|07/27/2017 06:38:...| 07/27/2017 06:49:...|              1|         1.56|         1|                 N|         170|          79|           1|        9.0|  1.0|    0.5|      2.16|         0.0|                  0.3|       12.96|\n",
      "|       2|07/27/2017 06:51:...| 07/27/2017 07:00:...|              1|         0.77|         1|                 N|          79|         144|           1|        7.5|  1.0|    0.5|      1.86|         0.0|                  0.3|       11.16|\n",
      "|       1|07/27/2017 06:02:...| 07/27/2017 06:18:...|              1|          1.2|         1|                 N|          90|         170|           1|       11.0|  1.0|    0.5|       0.1|         0.0|                  0.3|        12.9|\n",
      "|       1|07/27/2017 06:19:...| 07/27/2017 06:32:...|              1|          1.9|         1|                 N|         170|          68|           1|       10.0|  1.0|    0.5|       0.1|         0.0|                  0.3|        11.9|\n",
      "|       1|07/27/2017 06:42:...| 07/27/2017 06:58:...|              1|          1.5|         1|                 N|         234|          68|           1|       11.0|  1.0|    0.5|       2.0|         0.0|                  0.3|        14.8|\n",
      "|       2|07/27/2017 06:49:...| 07/27/2017 07:17:...|              5|         2.86|         1|                 N|         114|         229|           1|       17.5|  1.0|    0.5|      3.86|         0.0|                  0.3|       23.16|\n",
      "|       2|07/27/2017 06:00:...| 07/27/2017 06:11:...|              5|         1.71|         1|                 N|         162|         236|           1|        9.5|  1.0|    0.5|      2.26|         0.0|                  0.3|       13.56|\n",
      "|       2|07/27/2017 06:14:...| 07/27/2017 06:24:...|              5|         1.76|         1|                 N|         263|         229|           1|        8.5|  1.0|    0.5|      2.58|         0.0|                  0.3|       12.88|\n",
      "|       2|07/27/2017 06:31:...| 07/27/2017 06:40:...|              5|         1.77|         1|                 N|         229|         236|           2|        8.0|  1.0|    0.5|       0.0|         0.0|                  0.3|         9.8|\n",
      "|       1|07/27/2017 06:04:...| 07/27/2017 06:20:...|              1|          2.0|         1|                 N|         263|         239|           2|       11.5|  1.0|    0.5|       0.0|         0.0|                  0.3|        13.3|\n",
      "|       1|07/27/2017 06:23:...| 07/27/2017 06:28:...|              2|          0.4|         1|                 N|         239|         143|           1|        5.0|  1.0|    0.5|      1.35|         0.0|                  0.3|        8.15|\n",
      "|       1|07/27/2017 06:33:...| 07/27/2017 07:05:...|              2|          6.1|         1|                 N|         238|         234|           1|       23.0|  1.0|    0.5|       6.2|         0.0|                  0.3|        31.0|\n",
      "|       1|07/27/2017 06:42:...| 07/27/2017 06:46:...|              2|          0.4|         1|                 N|         211|         114|           1|        4.5|  1.0|    0.5|       1.0|         0.0|                  0.3|         7.3|\n",
      "|       2|07/27/2017 06:05:...| 07/27/2017 06:14:...|              5|         2.42|         1|                 N|         237|          24|           1|       10.0|  1.0|    0.5|       2.0|         0.0|                  0.3|        13.8|\n",
      "|       2|07/27/2017 06:20:...| 07/27/2017 06:34:...|              5|         2.11|         1|                 N|         238|         230|           1|       11.0|  1.0|    0.5|       2.0|         0.0|                  0.3|        14.8|\n",
      "|       2|07/27/2017 06:37:...| 07/27/2017 07:12:...|              5|         2.69|         1|                 N|         161|         113|           1|       18.0|  1.0|    0.5|      3.96|         0.0|                  0.3|       23.76|\n",
      "|       2|07/27/2017 06:09:...| 07/27/2017 06:23:...|              1|         1.93|         1|                 N|         236|         239|           1|       10.5|  1.0|    0.5|       1.0|         0.0|                  0.3|        13.3|\n",
      "|       2|07/27/2017 06:25:...| 07/27/2017 06:28:...|              1|         0.51|         1|                 N|         239|         238|           1|        4.0|  1.0|    0.5|      1.16|         0.0|                  0.3|        6.96|\n",
      "|       2|07/27/2017 06:38:...| 07/27/2017 06:43:...|              1|         0.91|         1|                 N|         238|          43|           1|        5.5|  1.0|    0.5|      1.46|         0.0|                  0.3|        8.76|\n",
      "|       2|07/27/2017 06:49:...| 07/27/2017 06:53:...|              1|         0.89|         1|                 N|         236|         263|           1|        5.0|  1.0|    0.5|      1.36|         0.0|                  0.3|        8.16|\n",
      "+--------+--------------------+---------------------+---------------+-------------+----------+------------------+------------+------------+------------+-----------+-----+-------+----------+------------+---------------------+------------+\n",
      "only showing top 20 rows\n",
      "\n"
     ]
    }
   ],
   "source": [
    "raw_data.show()"
   ]
  },
  {
   "cell_type": "code",
   "execution_count": 5,
   "id": "9adcc17c",
   "metadata": {},
   "outputs": [
    {
     "name": "stdout",
     "output_type": "stream",
     "text": [
      "root\n",
      " |-- VendorID: integer (nullable = true)\n",
      " |-- tpep_pickup_datetime: string (nullable = true)\n",
      " |-- tpep_dropoff_datetime: string (nullable = true)\n",
      " |-- passenger_count: integer (nullable = true)\n",
      " |-- trip_distance: double (nullable = true)\n",
      " |-- RatecodeID: integer (nullable = true)\n",
      " |-- store_and_fwd_flag: string (nullable = true)\n",
      " |-- PULocationID: integer (nullable = true)\n",
      " |-- DOLocationID: integer (nullable = true)\n",
      " |-- payment_type: integer (nullable = true)\n",
      " |-- fare_amount: double (nullable = true)\n",
      " |-- extra: double (nullable = true)\n",
      " |-- mta_tax: double (nullable = true)\n",
      " |-- tip_amount: double (nullable = true)\n",
      " |-- tolls_amount: double (nullable = true)\n",
      " |-- improvement_surcharge: double (nullable = true)\n",
      " |-- total_amount: double (nullable = true)\n",
      "\n"
     ]
    }
   ],
   "source": [
    "#checking the schema\n",
    "raw_data.printSchema()"
   ]
  },
  {
   "cell_type": "code",
   "execution_count": 22,
   "id": "ee15fbf5",
   "metadata": {},
   "outputs": [],
   "source": [
    "# Sample 5 million rows explicitly (optional)\n",
    "df_sample = raw_data.sample(withReplacement=False, fraction=0.03)"
   ]
  },
  {
   "cell_type": "code",
   "execution_count": 23,
   "id": "bf40b1c6",
   "metadata": {},
   "outputs": [
    {
     "name": "stdout",
     "output_type": "stream",
     "text": [
      "+--------+--------------------+---------------------+---------------+-------------+----------+------------------+------------+------------+------------+-----------+-----+-------+----------+------------+---------------------+------------+\n",
      "|VendorID|tpep_pickup_datetime|tpep_dropoff_datetime|passenger_count|trip_distance|RatecodeID|store_and_fwd_flag|PULocationID|DOLocationID|payment_type|fare_amount|extra|mta_tax|tip_amount|tolls_amount|improvement_surcharge|total_amount|\n",
      "+--------+--------------------+---------------------+---------------+-------------+----------+------------------+------------+------------+------------+-----------+-----+-------+----------+------------+---------------------+------------+\n",
      "|       1|07/27/2017 06:42:...| 07/27/2017 06:46:...|              2|          0.4|         1|                 N|         211|         114|           1|        4.5|  1.0|    0.5|       1.0|         0.0|                  0.3|         7.3|\n",
      "|       2|07/27/2017 06:55:...| 07/27/2017 07:18:...|              1|         2.99|         1|                 N|         164|         141|           1|       16.0|  1.0|    0.5|      1.78|         0.0|                  0.3|       19.58|\n",
      "|       2|07/27/2017 06:21:...| 07/27/2017 06:49:...|              1|         8.81|         1|                 N|         138|          42|           1|       29.5|  1.0|    0.5|      7.41|        5.76|                  0.3|       44.47|\n",
      "|       2|07/27/2017 06:16:...| 07/27/2017 06:18:...|              1|         0.32|         1|                 N|         186|          90|           1|        3.5|  1.0|    0.5|      1.59|         0.0|                  0.3|        6.89|\n",
      "|       2|07/27/2017 06:15:...| 07/27/2017 06:33:...|              1|         1.12|         1|                 N|         161|          48|           1|       11.5|  1.0|    0.5|       1.7|         0.0|                  0.3|        15.0|\n",
      "|       1|07/27/2017 06:25:...| 07/27/2017 07:05:...|              1|          9.8|         1|                 N|         138|         239|           1|       35.0|  1.0|    0.5|       8.5|        5.76|                  0.3|       51.06|\n",
      "|       2|07/27/2017 06:13:...| 07/27/2017 06:36:...|              6|         2.44|         1|                 N|         163|         224|           1|       15.5|  1.0|    0.5|       2.0|         0.0|                  0.3|        19.3|\n",
      "|       1|07/27/2017 06:33:...| 07/27/2017 06:47:...|              1|          3.5|         1|                 N|         237|         202|           1|       13.0|  1.0|    0.5|      2.95|         0.0|                  0.3|       17.75|\n",
      "|       2|07/27/2017 06:29:...| 07/27/2017 07:09:...|              1|         5.63|         1|                 N|         164|         166|           2|       26.5|  1.0|    0.5|       0.0|         0.0|                  0.3|        28.3|\n",
      "|       2|07/27/2017 06:20:...| 07/27/2017 06:31:...|              3|         2.16|         1|                 N|         239|         236|           2|       10.0|  1.0|    0.5|       0.0|         0.0|                  0.3|        11.8|\n",
      "|       2|07/27/2017 06:21:...| 07/27/2017 06:47:...|              1|         5.04|         1|                 N|         229|          42|           1|       20.5|  1.0|    0.5|      4.46|         0.0|                  0.3|       26.76|\n",
      "|       2|07/27/2017 06:06:...| 07/27/2017 06:11:...|              1|         0.91|         1|                 N|         236|         236|           1|        5.5|  1.0|    0.5|      1.46|         0.0|                  0.3|        8.76|\n",
      "|       1|07/27/2017 06:35:...| 07/27/2017 07:11:...|              1|          8.8|         1|                 N|          13|         152|           1|       30.5|  1.0|    0.5|      6.45|         0.0|                  0.3|       38.75|\n",
      "|       2|07/27/2017 06:53:...| 07/27/2017 06:59:...|              1|         0.87|         1|                 N|         237|         163|           1|        6.0|  1.0|    0.5|      1.95|         0.0|                  0.3|        9.75|\n",
      "|       2|07/27/2017 06:09:...| 07/27/2017 06:33:...|              1|          3.9|         1|                 N|         162|         148|           1|       18.0|  1.0|    0.5|      3.96|         0.0|                  0.3|       23.76|\n",
      "|       2|07/27/2017 06:54:...| 07/27/2017 07:01:...|              2|          1.2|         1|                 N|         137|          79|           1|        6.5|  1.0|    0.5|      1.66|         0.0|                  0.3|        9.96|\n",
      "|       1|07/27/2017 06:12:...| 07/27/2017 06:22:...|              1|          1.1|         1|                 N|         158|         234|           1|        8.5|  1.0|    0.5|      2.05|         0.0|                  0.3|       12.35|\n",
      "|       2|07/27/2017 06:01:...| 07/27/2017 06:33:...|              3|          2.4|         1|                 N|         233|         246|           2|       19.0|  1.0|    0.5|       0.0|         0.0|                  0.3|        20.8|\n",
      "|       2|07/27/2017 06:03:...| 07/27/2017 06:16:...|              1|         1.58|         1|                 N|         234|           4|           2|       10.0|  1.0|    0.5|       0.0|         0.0|                  0.3|        11.8|\n",
      "|       2|07/27/2017 06:39:...| 07/27/2017 07:03:...|              1|         4.41|         1|                 N|         236|         224|           1|       17.0|  1.0|    0.5|      3.76|         0.0|                  0.3|       22.56|\n",
      "+--------+--------------------+---------------------+---------------+-------------+----------+------------------+------------+------------+------------+-----------+-----+-------+----------+------------+---------------------+------------+\n",
      "only showing top 20 rows\n",
      "\n"
     ]
    }
   ],
   "source": [
    "df_sample.show()"
   ]
  },
  {
   "cell_type": "code",
   "execution_count": 10,
   "id": "664c7081",
   "metadata": {},
   "outputs": [
    {
     "data": {
      "text/plain": [
       "5671983"
      ]
     },
     "execution_count": 10,
     "metadata": {},
     "output_type": "execute_result"
    }
   ],
   "source": [
    "df_sample.count()"
   ]
  },
  {
   "cell_type": "code",
   "execution_count": 1,
   "id": "855857f6",
   "metadata": {},
   "outputs": [],
   "source": [
    "#converting to pandas dataframe\n",
    "pandas_df = df_sample.toPandas()"
   ]
  },
  {
   "cell_type": "code",
   "execution_count": 18,
   "id": "4e6b2244",
   "metadata": {},
   "outputs": [
    {
     "data": {
      "text/html": [
       "<div>\n",
       "<style scoped>\n",
       "    .dataframe tbody tr th:only-of-type {\n",
       "        vertical-align: middle;\n",
       "    }\n",
       "\n",
       "    .dataframe tbody tr th {\n",
       "        vertical-align: top;\n",
       "    }\n",
       "\n",
       "    .dataframe thead th {\n",
       "        text-align: right;\n",
       "    }\n",
       "</style>\n",
       "<table border=\"1\" class=\"dataframe\">\n",
       "  <thead>\n",
       "    <tr style=\"text-align: right;\">\n",
       "      <th></th>\n",
       "      <th>VendorID</th>\n",
       "      <th>tpep_pickup_datetime</th>\n",
       "      <th>tpep_dropoff_datetime</th>\n",
       "      <th>passenger_count</th>\n",
       "      <th>trip_distance</th>\n",
       "      <th>RatecodeID</th>\n",
       "      <th>store_and_fwd_flag</th>\n",
       "      <th>PULocationID</th>\n",
       "      <th>DOLocationID</th>\n",
       "      <th>payment_type</th>\n",
       "      <th>fare_amount</th>\n",
       "      <th>extra</th>\n",
       "      <th>mta_tax</th>\n",
       "      <th>tip_amount</th>\n",
       "      <th>tolls_amount</th>\n",
       "      <th>improvement_surcharge</th>\n",
       "      <th>total_amount</th>\n",
       "    </tr>\n",
       "  </thead>\n",
       "  <tbody>\n",
       "    <tr>\n",
       "      <th>0</th>\n",
       "      <td>2</td>\n",
       "      <td>07/27/2017 06:31:15 PM</td>\n",
       "      <td>07/27/2017 06:48:44 PM</td>\n",
       "      <td>2</td>\n",
       "      <td>2.25</td>\n",
       "      <td>1</td>\n",
       "      <td>N</td>\n",
       "      <td>230</td>\n",
       "      <td>246</td>\n",
       "      <td>2</td>\n",
       "      <td>13.0</td>\n",
       "      <td>1.0</td>\n",
       "      <td>0.5</td>\n",
       "      <td>0.0</td>\n",
       "      <td>0.0</td>\n",
       "      <td>0.3</td>\n",
       "      <td>14.8</td>\n",
       "    </tr>\n",
       "    <tr>\n",
       "      <th>1</th>\n",
       "      <td>1</td>\n",
       "      <td>07/27/2017 06:53:08 PM</td>\n",
       "      <td>07/27/2017 07:09:18 PM</td>\n",
       "      <td>1</td>\n",
       "      <td>1.80</td>\n",
       "      <td>1</td>\n",
       "      <td>N</td>\n",
       "      <td>246</td>\n",
       "      <td>230</td>\n",
       "      <td>1</td>\n",
       "      <td>11.5</td>\n",
       "      <td>1.0</td>\n",
       "      <td>0.5</td>\n",
       "      <td>2.0</td>\n",
       "      <td>0.0</td>\n",
       "      <td>0.3</td>\n",
       "      <td>15.3</td>\n",
       "    </tr>\n",
       "    <tr>\n",
       "      <th>2</th>\n",
       "      <td>1</td>\n",
       "      <td>07/27/2017 06:34:32 PM</td>\n",
       "      <td>07/27/2017 06:39:44 PM</td>\n",
       "      <td>1</td>\n",
       "      <td>0.60</td>\n",
       "      <td>1</td>\n",
       "      <td>N</td>\n",
       "      <td>141</td>\n",
       "      <td>262</td>\n",
       "      <td>1</td>\n",
       "      <td>5.0</td>\n",
       "      <td>1.0</td>\n",
       "      <td>0.5</td>\n",
       "      <td>1.0</td>\n",
       "      <td>0.0</td>\n",
       "      <td>0.3</td>\n",
       "      <td>7.8</td>\n",
       "    </tr>\n",
       "    <tr>\n",
       "      <th>3</th>\n",
       "      <td>2</td>\n",
       "      <td>07/27/2017 06:55:28 PM</td>\n",
       "      <td>07/27/2017 07:06:33 PM</td>\n",
       "      <td>2</td>\n",
       "      <td>1.01</td>\n",
       "      <td>1</td>\n",
       "      <td>N</td>\n",
       "      <td>43</td>\n",
       "      <td>141</td>\n",
       "      <td>2</td>\n",
       "      <td>8.0</td>\n",
       "      <td>1.0</td>\n",
       "      <td>0.5</td>\n",
       "      <td>0.0</td>\n",
       "      <td>0.0</td>\n",
       "      <td>0.3</td>\n",
       "      <td>9.8</td>\n",
       "    </tr>\n",
       "    <tr>\n",
       "      <th>4</th>\n",
       "      <td>2</td>\n",
       "      <td>07/27/2017 06:20:18 PM</td>\n",
       "      <td>07/27/2017 06:32:35 PM</td>\n",
       "      <td>1</td>\n",
       "      <td>1.18</td>\n",
       "      <td>1</td>\n",
       "      <td>N</td>\n",
       "      <td>48</td>\n",
       "      <td>164</td>\n",
       "      <td>2</td>\n",
       "      <td>9.0</td>\n",
       "      <td>1.0</td>\n",
       "      <td>0.5</td>\n",
       "      <td>0.0</td>\n",
       "      <td>0.0</td>\n",
       "      <td>0.3</td>\n",
       "      <td>10.8</td>\n",
       "    </tr>\n",
       "  </tbody>\n",
       "</table>\n",
       "</div>"
      ],
      "text/plain": [
       "   VendorID    tpep_pickup_datetime   tpep_dropoff_datetime  passenger_count  \\\n",
       "0         2  07/27/2017 06:31:15 PM  07/27/2017 06:48:44 PM                2   \n",
       "1         1  07/27/2017 06:53:08 PM  07/27/2017 07:09:18 PM                1   \n",
       "2         1  07/27/2017 06:34:32 PM  07/27/2017 06:39:44 PM                1   \n",
       "3         2  07/27/2017 06:55:28 PM  07/27/2017 07:06:33 PM                2   \n",
       "4         2  07/27/2017 06:20:18 PM  07/27/2017 06:32:35 PM                1   \n",
       "\n",
       "   trip_distance  RatecodeID store_and_fwd_flag  PULocationID  DOLocationID  \\\n",
       "0           2.25           1                  N           230           246   \n",
       "1           1.80           1                  N           246           230   \n",
       "2           0.60           1                  N           141           262   \n",
       "3           1.01           1                  N            43           141   \n",
       "4           1.18           1                  N            48           164   \n",
       "\n",
       "   payment_type  fare_amount  extra  mta_tax  tip_amount  tolls_amount  \\\n",
       "0             2         13.0    1.0      0.5         0.0           0.0   \n",
       "1             1         11.5    1.0      0.5         2.0           0.0   \n",
       "2             1          5.0    1.0      0.5         1.0           0.0   \n",
       "3             2          8.0    1.0      0.5         0.0           0.0   \n",
       "4             2          9.0    1.0      0.5         0.0           0.0   \n",
       "\n",
       "   improvement_surcharge  total_amount  \n",
       "0                    0.3          14.8  \n",
       "1                    0.3          15.3  \n",
       "2                    0.3           7.8  \n",
       "3                    0.3           9.8  \n",
       "4                    0.3          10.8  "
      ]
     },
     "execution_count": 18,
     "metadata": {},
     "output_type": "execute_result"
    }
   ],
   "source": [
    "pandas_df.head()"
   ]
  },
  {
   "cell_type": "code",
   "execution_count": 19,
   "id": "65ab21d3",
   "metadata": {},
   "outputs": [
    {
     "name": "stdout",
     "output_type": "stream",
     "text": [
      "<class 'pandas.core.frame.DataFrame'>\n",
      "RangeIndex: 1134081 entries, 0 to 1134080\n",
      "Data columns (total 17 columns):\n",
      " #   Column                 Non-Null Count    Dtype  \n",
      "---  ------                 --------------    -----  \n",
      " 0   VendorID               1134081 non-null  int32  \n",
      " 1   tpep_pickup_datetime   1134081 non-null  object \n",
      " 2   tpep_dropoff_datetime  1134081 non-null  object \n",
      " 3   passenger_count        1134081 non-null  int32  \n",
      " 4   trip_distance          1134081 non-null  float64\n",
      " 5   RatecodeID             1134081 non-null  int32  \n",
      " 6   store_and_fwd_flag     1134081 non-null  object \n",
      " 7   PULocationID           1134081 non-null  int32  \n",
      " 8   DOLocationID           1134081 non-null  int32  \n",
      " 9   payment_type           1134081 non-null  int32  \n",
      " 10  fare_amount            1134081 non-null  float64\n",
      " 11  extra                  1134081 non-null  float64\n",
      " 12  mta_tax                1134081 non-null  float64\n",
      " 13  tip_amount             1134081 non-null  float64\n",
      " 14  tolls_amount           1134081 non-null  float64\n",
      " 15  improvement_surcharge  1134081 non-null  float64\n",
      " 16  total_amount           1134081 non-null  float64\n",
      "dtypes: float64(8), int32(6), object(3)\n",
      "memory usage: 121.1+ MB\n"
     ]
    }
   ],
   "source": [
    "pandas_df.info()"
   ]
  },
  {
   "cell_type": "code",
   "execution_count": 21,
   "id": "1a185fe4",
   "metadata": {},
   "outputs": [],
   "source": [
    "#saving the dataframe to a csv file\n",
    "pandas_df.to_csv(\"..\\Data\\Yellow_Taxi_Trip_Sample.csv\",index=False)"
   ]
  }
 ],
 "metadata": {
  "kernelspec": {
   "display_name": "Python 3 (ipykernel)",
   "language": "python",
   "name": "python3"
  },
  "language_info": {
   "codemirror_mode": {
    "name": "ipython",
    "version": 3
   },
   "file_extension": ".py",
   "mimetype": "text/x-python",
   "name": "python",
   "nbconvert_exporter": "python",
   "pygments_lexer": "ipython3",
   "version": "3.10.0"
  }
 },
 "nbformat": 4,
 "nbformat_minor": 5
}
